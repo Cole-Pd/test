{
  "nbformat": 4,
  "nbformat_minor": 0,
  "metadata": {
    "colab": {
      "provenance": [],
      "toc_visible": true,
      "authorship_tag": "ABX9TyM3EQIJZnCKG4Dc56NT1w6i",
      "include_colab_link": true
    },
    "kernelspec": {
      "name": "python3",
      "display_name": "Python 3"
    },
    "language_info": {
      "name": "python"
    }
  },
  "cells": [
    {
      "cell_type": "markdown",
      "metadata": {
        "id": "view-in-github",
        "colab_type": "text"
      },
      "source": [
        "<a href=\"https://colab.research.google.com/github/Cole-Pd/test/blob/main/About_me.ipynb\" target=\"_parent\"><img src=\"https://colab.research.google.com/assets/colab-badge.svg\" alt=\"Open In Colab\"/></a>"
      ]
    },
    {
      "cell_type": "markdown",
      "source": [
        "#**Hi I'm Cole**\n",
        "##About Me:\n",
        "I'm an earth and environmental scientist interested in learning and applying geochemical modles to surface process systems. I signed up for this bootcamp to learn about data and more importantly how to learn with data. podcasts I enjoy are *Radiolab* and *Gastropod*.\n"
      ],
      "metadata": {
        "id": "fP4SKG8tTNYj"
      }
    },
    {
      "cell_type": "markdown",
      "source": [
        "I'd be stoked | as a half human / animal |\n",
        "  - | |\n",
        "A turtle head | Would be Chaos |"
      ],
      "metadata": {
        "id": "9NhxLkAdXutw"
      }
    },
    {
      "cell_type": "markdown",
      "source": [
        "\n",
        "\n",
        "###Three Fun Facts:\n",
        "\n",
        "1. Stoked on reading fantasy:\n",
        " - I've read most of Brandon Sanderson's \"*Cosmere*\".\n",
        " - I'm starting Terry Prathet's '*Disc World*'\n",
        "\n",
        "2. I am a pretty solid at baking.\n",
        "\n",
        "3. Here's a link to my favoite analytical instrument. [ICP-MS](https://www.perkinelmer.com/category/icp-ms-instruments)"
      ],
      "metadata": {
        "id": "LXPXm7MDWVx6"
      }
    }
  ]
}